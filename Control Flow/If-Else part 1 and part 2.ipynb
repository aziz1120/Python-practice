{
 "cells": [
  {
   "cell_type": "code",
   "execution_count": 1,
   "id": "0366f250",
   "metadata": {},
   "outputs": [
    {
     "name": "stdout",
     "output_type": "stream",
     "text": [
      "8 Is Positive\n"
     ]
    }
   ],
   "source": [
    "num = 8\n",
    "if num > 0:\n",
    "    print(num , \"Is Positive\")\n",
    "    \n",
    "else :\n",
    "    print(num , \"Is Negative\")"
   ]
  },
  {
   "cell_type": "code",
   "execution_count": 2,
   "id": "6458d2b7",
   "metadata": {},
   "outputs": [
    {
     "name": "stdout",
     "output_type": "stream",
     "text": [
      "0 zero\n"
     ]
    }
   ],
   "source": [
    "num = 0\n",
    "if num > 0 :\n",
    "    print(num , \"Is Positive\")\n",
    "elif num < 0 :\n",
    "    print(num,\"Is Negative\")\n",
    "else :\n",
    "    print(num,\"zero\")"
   ]
  },
  {
   "cell_type": "code",
   "execution_count": 3,
   "id": "5bb27938",
   "metadata": {},
   "outputs": [
    {
     "name": "stdout",
     "output_type": "stream",
     "text": [
      "Enter the Number : 5\n",
      "5 Odd\n"
     ]
    }
   ],
   "source": [
    "num = int(input(\"Enter the Number : \"))\n",
    "if num%2==0 :\n",
    "    print(num,\"Even\")\n",
    "else :\n",
    "    print(num,\"Odd\")"
   ]
  },
  {
   "cell_type": "code",
   "execution_count": 7,
   "id": "8b0b5808",
   "metadata": {},
   "outputs": [
    {
     "name": "stdout",
     "output_type": "stream",
     "text": [
      "Enter the Number : 15\n",
      "15 Divisible\n"
     ]
    }
   ],
   "source": [
    "#1. Check whether the number is divisible by 7\n",
    "num = int(input(\"Enter the Number : \"))\n",
    "if num//2==7 :\n",
    "    print(num,\"Divisible\")\n",
    "else :\n",
    "    print(num,\"Not Divisible\")"
   ]
  },
  {
   "cell_type": "code",
   "execution_count": 8,
   "id": "e6f8d421",
   "metadata": {},
   "outputs": [
    {
     "name": "stdout",
     "output_type": "stream",
     "text": [
      "Enter the Number : 3\n",
      "3 Odd\n"
     ]
    }
   ],
   "source": [
    "#2. Check whether the given number is even or od\n",
    "num = int(input(\"Enter the Number : \"))\n",
    "if num%2==0 :\n",
    "    print(num,\"Even\")\n",
    "else :\n",
    "    print(num,\"Odd\")"
   ]
  },
  {
   "cell_type": "code",
   "execution_count": 20,
   "id": "61743268",
   "metadata": {},
   "outputs": [
    {
     "name": "stdout",
     "output_type": "stream",
     "text": [
      "not Present\n"
     ]
    }
   ],
   "source": [
    "#4. check whether 'a' is in 'Python' string or not\n",
    "s = \"python\"\n",
    "if 'a' == s :\n",
    "    print(\"Is Present\")\n",
    "else :\n",
    "    print(\"not Present\")"
   ]
  },
  {
   "cell_type": "code",
   "execution_count": 13,
   "id": "b778ede9",
   "metadata": {},
   "outputs": [
    {
     "name": "stdout",
     "output_type": "stream",
     "text": [
      "Enter The value of a30\n",
      "Enter The value of b20\n",
      "Enter The value of c10\n",
      "a is the largest number\n"
     ]
    }
   ],
   "source": [
    "#5. Find the largest number among three number with user input\n",
    "a = int(input(\"Enter The value of a\"))\n",
    "b = int(input(\"Enter The value of b\"))\n",
    "c = int(input(\"Enter The value of c\"))\n",
    "if a > b :\n",
    "    print(\"a is the largest number\")\n",
    "elif a > c :\n",
    "    print(\"a is the largest number\")\n",
    "elif b > a :\n",
    "    print(\"b is the largest number\")\n",
    "elif b > c :\n",
    "    print(\"b is the largest number\")\n",
    "elif c > a :\n",
    "    print(\"c is the largest number\")\n",
    "elif c > b :\n",
    "    print(\"c is the largest number\")\n",
    "else :\n",
    "    print('None')"
   ]
  },
  {
   "cell_type": "code",
   "execution_count": 25,
   "id": "f70864cc",
   "metadata": {},
   "outputs": [
    {
     "name": "stdout",
     "output_type": "stream",
     "text": [
      "Enter the total number of Working days : 365\n",
      "Enter Number Of Days For Present : 250\n",
      "Students will not be able to sit in Exam\n"
     ]
    }
   ],
   "source": [
    "#7. Accept the following from the user and calculate the percentage of class attended:\n",
    "#a.     Total number of working days\n",
    "#b.     Total number of days for present\n",
    "#After calculating percentage show that, If the percentage is less than 75, than student will not be able to sit in exam.\n",
    "\n",
    "W = int(input(\"Enter the total number of Working days : \"))\n",
    "P = int(input(\"Enter Number Of Days For Present : \"))\n",
    "Percentage = (b/a)*100\n",
    "if p<75 :\n",
    "    print(\"Students will not be able to sit in Exam\")\n",
    "else :\n",
    "    print(\"Students will be able to sit in Exam\")"
   ]
  },
  {
   "cell_type": "code",
   "execution_count": 24,
   "id": "564f8598",
   "metadata": {},
   "outputs": [
    {
     "name": "stdout",
     "output_type": "stream",
     "text": [
      "Enter The Year : 1900\n",
      "Not a leap Year\n"
     ]
    }
   ],
   "source": [
    "#6.Check whether year is leap year or not\n",
    "year = int(input(\"Enter The Year : \"))\n",
    "if year%4==0 and year%100!=0 :\n",
    "    print(\"Leap Year\")\n",
    "elif year%400==0 :\n",
    "    print(\"Leap Year\")\n",
    "else :\n",
    "    print(\"Not a leap Year\")"
   ]
  },
  {
   "cell_type": "code",
   "execution_count": 28,
   "id": "2498647b",
   "metadata": {},
   "outputs": [
    {
     "name": "stdout",
     "output_type": "stream",
     "text": [
      "Enter the letterf\n",
      "Ia not a vowel\n"
     ]
    }
   ],
   "source": [
    "#8. Check whether the letter is vowel or not\n",
    "V = ['a','e','i','o','u']\n",
    "L = str(input(\"Enter the letter\"))\n",
    "if L in V :\n",
    "     print(\"Is a Vowel\")\n",
    "else :\n",
    "     print(\"Ia not a vowel\")\n",
    "     "
   ]
  },
  {
   "cell_type": "code",
   "execution_count": 30,
   "id": "76c83ae9",
   "metadata": {},
   "outputs": [
    {
     "name": "stdout",
     "output_type": "stream",
     "text": [
      "Enter the Number : 5\n",
      "Thusday\n"
     ]
    }
   ],
   "source": [
    "#9. Write a program to accept the number from 1 to 7 and display the name of the day like 1 for sunday,2 for monday and so on.\n",
    "Number = int(input(\"Enter the Number : \"))\n",
    "if Number == 1 :\n",
    "    print(\"Sunday\")\n",
    "elif Number == 2 :\n",
    "    print(\"Monday\")\n",
    "elif Number == 3 :\n",
    "    print(\"Tuesday\")\n",
    "elif Number == 4 :\n",
    "    print(\"Wednesday\")\n",
    "elif Number == 5 :\n",
    "    print(\"Thusday\")\n",
    "elif Number == 6 :\n",
    "    print(\"Friday\")\n",
    "elif Number == 7 :\n",
    "    print(\"Saturday\")\n",
    "else :\n",
    "    print(\"Please enter the number \")"
   ]
  },
  {
   "cell_type": "code",
   "execution_count": 35,
   "id": "fb9ba1cf",
   "metadata": {},
   "outputs": [
    {
     "name": "stdout",
     "output_type": "stream",
     "text": [
      "Enter The City : Agra\n",
      "Taj Mahal\n"
     ]
    }
   ],
   "source": [
    "#10. Accept any city from the user and display monument of that city.\n",
    "#                  City                                 Monument\n",
    "#                  Delhi                               Red Fort\n",
    "#                  Agra                                Taj Mahal\n",
    "#                  Jaipur                              Jal Mahal\n",
    "\n",
    "city = str(input(\"Enter The City : \"))\n",
    "if city == 'Delhi' :\n",
    "    print(\"Red Fort\")\n",
    "elif city  == 'Agra' :\n",
    "    print(\"Taj Mahal\")\n",
    "elif city == 'Jaipur' :\n",
    "    print(\"Jai Mahal\")\n",
    "else :\n",
    "    print(\"Please enter the city name \")"
   ]
  },
  {
   "cell_type": "code",
   "execution_count": 38,
   "id": "29a381ee",
   "metadata": {},
   "outputs": [
    {
     "name": "stdout",
     "output_type": "stream",
     "text": [
      "Enter the age of the person : 22\n",
      "Person is Eligible for voting\n"
     ]
    }
   ],
   "source": [
    "#11. Check whether the person is eligible for voting or not.\n",
    "person = int(input(\"Enter the age of the person : \"))\n",
    "if person > 18 :\n",
    "    print(\"Person is Eligible for voting\")\n",
    "else :\n",
    "    print(\"Person is not Eligible for voting\")\n",
    "    "
   ]
  },
  {
   "cell_type": "code",
   "execution_count": 40,
   "id": "e450e9af",
   "metadata": {},
   "outputs": [
    {
     "name": "stdout",
     "output_type": "stream",
     "text": [
      "Enter the Value of length : 5\n",
      "Enter the Value of breadth : 5\n",
      "Square\n"
     ]
    }
   ],
   "source": [
    "#13. Check whether the figure is square or not by giving length and breadth\n",
    "L = int(input(\"Enter the Value of length : \"))\n",
    "B = int(input(\"Enter the Value of breadth : \"))\n",
    "if L == B :\n",
    "    print('Square')\n",
    "else :\n",
    "    print('not a Square')"
   ]
  },
  {
   "cell_type": "code",
   "execution_count": 48,
   "id": "4856b52e",
   "metadata": {},
   "outputs": [
    {
     "name": "stdout",
     "output_type": "stream",
     "text": [
      "Enter the number : 5\n",
      "Enter the number : 5\n",
      "Enter the operator*\n",
      "25\n"
     ]
    }
   ],
   "source": [
    "#12. Make a simple calculator using input\n",
    "num1 = int(input(\"Enter the number : \"))\n",
    "num2 = int(input(\"Enter the number : \"))\n",
    "Operator = (input(\"Enter the operator\"))\n",
    "if Operator == '+' :\n",
    "           print(num1 + num2)\n",
    "elif Operator == '-' :\n",
    "           print(num1 - num2)\n",
    "elif Operator == '*' :\n",
    "           print(num1 * num2)\n",
    "elif Operator == '/' :\n",
    "           print(num1 / num2)\n",
    "else :\n",
    "    print('Please enter the number ')"
   ]
  },
  {
   "cell_type": "code",
   "execution_count": 52,
   "id": "11183f21",
   "metadata": {},
   "outputs": [
    {
     "name": "stdout",
     "output_type": "stream",
     "text": [
      "Enter the Percentage : 88\n",
      "Grade A+\n"
     ]
    }
   ],
   "source": [
    "#1. Accept the percentage from the user and display the  grade according to the following criteria:\n",
    "#Below 25 —- D\n",
    "#25 to 45 —- C\n",
    "#45 to 50 —- B\n",
    "#50 to 60 –– B+\n",
    "#60 to 80 —- A\n",
    "#Above 80 –- A+\n",
    "\n",
    "percentage = int(input(\"Enter the Percentage : \"))\n",
    "if percentage < 25 :\n",
    "    print(\"Grade D\")\n",
    "elif 25 < percentage < 45 :\n",
    "    print(\"Grade C\")\n",
    "elif 45 < percentage < 50 :\n",
    "    print(\"Grade B\")\n",
    "elif 50 < percentage < 60 :\n",
    "    print(\"Grade B+\")\n",
    "elif 60 < percentage < 80 :\n",
    "    print(\"Grade A\")\n",
    "elif percentage >= 80 :\n",
    "    print(\"Grade A+\")\n",
    "else :\n",
    "    print(\"Please enter the percentage\")"
   ]
  },
  {
   "cell_type": "code",
   "execution_count": 9,
   "id": "044de54e",
   "metadata": {},
   "outputs": [
    {
     "name": "stdout",
     "output_type": "stream",
     "text": [
      "Two strings are Anagram\n"
     ]
    }
   ],
   "source": [
    "#2. Check if two strings are anagram or not. (care = race)\n",
    "str1 = 'care'\n",
    "str2 = 'race'\n",
    "W1 = sorted(str1)\n",
    "W2 = sorted(str2)\n",
    "if len(str1) == len(str2) :\n",
    "    if W1 == W2 :\n",
    "        print(\"Two strings are Anagram\")\n",
    "    else :\n",
    "        print(\"Two strings are not Anagram\")\n",
    "else :\n",
    "    print(\"Not Anagram\")"
   ]
  },
  {
   "cell_type": "code",
   "execution_count": 5,
   "id": "abddfa29",
   "metadata": {},
   "outputs": [
    {
     "name": "stdout",
     "output_type": "stream",
     "text": [
      "Enter the value : 5\n",
      "Enter the value : 3\n",
      "Enter the value : 5\n",
      "It is an Scalene\n"
     ]
    }
   ],
   "source": [
    "#3. Accept three sides of a triangle and check whether it is an equilateral, isosceles or scalene triangle.\n",
    "#Note :\n",
    "#An equilateral triangle is a triangle in which all three sides are equal.\n",
    "#A scalene triangle is a triangle that has three unequal sides.\n",
    "#An isosceles triangle is a triangle with (at least) two equal sides.\n",
    "side1 = int(input(\"Enter the value : \"))\n",
    "side2 = int(input(\"Enter the value : \"))\n",
    "side3 = int(input(\"Enter the value : \"))\n",
    "if side1 == side2 == side3 :\n",
    "    print(\"It is an Equilateral\")\n",
    "elif side1 != side2 != side3 :\n",
    "    print(\"It is an Scalene\")\n",
    "elif side1 == side2 or side1 == side3 or side2 == side1 or side2 == side3 :\n",
    "    print(\"It is an Isosceles\")\n",
    "else :\n",
    "    print(\"Please enter the value\")"
   ]
  },
  {
   "cell_type": "code",
   "execution_count": 10,
   "id": "8354ea7a",
   "metadata": {},
   "outputs": [
    {
     "name": "stdout",
     "output_type": "stream",
     "text": [
      "Enter the value : 5\n",
      "Enter the value : 6\n",
      "Enter the value : 8\n",
      "Triangle is possible\n"
     ]
    }
   ],
   "source": [
    "#4. Accept three sides of triangle and check whether the triangle is possible or not.\n",
    "#(triangle is possible only when sum of any two sides is greater than 3rd side)\n",
    "side1 = int(input(\"Enter the value : \"))\n",
    "side2 = int(input(\"Enter the value : \"))\n",
    "side3 = int(input(\"Enter the value : \"))\n",
    "if side1+side2>side3 or side1+side3>side2 or side2+side3>side1 :\n",
    "    print(\"Triangle is possible\")\n",
    "else :\n",
    "    print(\"Triangle is not possible \")"
   ]
  },
  {
   "cell_type": "code",
   "execution_count": 65,
   "id": "6c01ea16",
   "metadata": {},
   "outputs": [
    {
     "name": "stdout",
     "output_type": "stream",
     "text": [
      "Enter the Key : Age\n",
      "Key is present in the Dictionary\n"
     ]
    }
   ],
   "source": [
    "#5. Check whether the given key is present in the dictionary or not\n",
    "D = dict({\"Name\" : \"Aziz\",\"Age\" : 22,\"Country\" : \"India\",\"Telephone\" : 12345})\n",
    "K = str(input(\"Enter the Key : \"))\n",
    "if K in D :\n",
    "    print(\"Key is present in the Dictionary\")\n",
    "else :\n",
    "    print(\"Key is not present in the Dictionary\")"
   ]
  },
  {
   "cell_type": "code",
   "execution_count": 14,
   "id": "3483c5e3",
   "metadata": {},
   "outputs": [
    {
     "name": "stdout",
     "output_type": "stream",
     "text": [
      "Enter the Electric Units : 350\n",
      "Units\n",
      "Total amount =  650\n"
     ]
    }
   ],
   "source": [
    "#7. Accept the electric units from user and calculate the bill according to the following rates.\n",
    "#First 100 Units     :  Free\n",
    "#Next 200 Units      :  Rs 2 per unit.\n",
    "#Above 300 Units     :  Rs 5 per unit.\n",
    "units = int(input(\"Enter the Electric Units : \"))\n",
    "if units<=100 :\n",
    "    amount = 0\n",
    "elif units>100 and units<=300 :\n",
    "    amount = (units - 100) * 2\n",
    "else :\n",
    "    amount = 0 + 400 + (units - 300) * 5\n",
    "print(\"Units\")\n",
    "print(\"Total amount = \",amount)"
   ]
  },
  {
   "cell_type": "code",
   "execution_count": 16,
   "id": "53871230",
   "metadata": {},
   "outputs": [
    {
     "name": "stdout",
     "output_type": "stream",
     "text": [
      "enter the number : 325\n",
      "The Number entered is a three digit number.\n"
     ]
    }
   ],
   "source": [
    "#6. Write a program to check whether the number entered is three digit or not\n",
    "num = int(input(\"enter the number : \"))\n",
    "if num>=100 and num<=999 :\n",
    "    print(\"The Number entered is a three digit number.\")\n",
    "else :\n",
    "    print(\"The number entered is not a three digit number.\")"
   ]
  },
  {
   "cell_type": "code",
   "execution_count": 24,
   "id": "04644f15",
   "metadata": {},
   "outputs": [
    {
     "name": "stdout",
     "output_type": "stream",
     "text": [
      "Enter the age : 40\n",
      "Enter the M\\F : F\n",
      "Enter the number of days : 20\n",
      "Age is :  40\n",
      "Sex is : F\n",
      "Days is : 20\n",
      "Wages is : 17000\n"
     ]
    }
   ],
   "source": [
    "#8. Accept the age, sex (‘M’, ‘F’), number of days and display the wages accordingly\n",
    "age = int(input(\"Enter the age : \"))\n",
    "sex = input(\"Enter the M\\F : \" )\n",
    "days = int(input(\"Enter the number of days : \"))\n",
    "if age>=18 and age<=30 :\n",
    "    if sex == 'M' :\n",
    "        wages = 700 * days\n",
    "    elif sex =='F' :\n",
    "        wages = 750 * days\n",
    "    else :\n",
    "        print(\"Enter Appropriate Age.\")\n",
    "elif age>=30 and age<=40 :\n",
    "    if sex == 'M':\n",
    "        wages = 800 * days\n",
    "    elif sex == 'F' :\n",
    "        wages = 850 * days\n",
    "    else :\n",
    "        print(\"Please Enter Appropriate Age. \")\n",
    "else :\n",
    "    print(\"Please Enter Appropriate Age .\")\n",
    "print(\"Age is : \",age)\n",
    "print(\"Sex is :\",sex)\n",
    "print(\"Days is :\",days)\n",
    "print(\"Wages is :\",wages)"
   ]
  },
  {
   "cell_type": "code",
   "execution_count": 23,
   "id": "0b133475",
   "metadata": {},
   "outputs": [
    {
     "name": "stdout",
     "output_type": "stream",
     "text": [
      "Enter the 1st number : 50\n",
      "Enter the 2nd number : 30\n",
      "Enter the 3rd number : 40\n",
      "n3 is the second largest number.\n"
     ]
    }
   ],
   "source": [
    "#9.  Accept three numbers from the user and display the second largest number.\n",
    "n1 = int(input(\"Enter the 1st number : \"))\n",
    "n2 = int(input(\"Enter the 2nd number : \"))\n",
    "n3 = int(input(\"Enter the 3rd number : \"))\n",
    "if n1>n2>n3 or n3>n2>n1 :\n",
    "    print(\"n2 is the second largest number.\")\n",
    "elif n2>n1>n3 or n3>n1>n2 :\n",
    "    print(\"n1 is the second largest number.\")\n",
    "else :\n",
    "    print(\"n3 is the second largest number.\")"
   ]
  },
  {
   "cell_type": "code",
   "execution_count": 28,
   "id": "df103f37",
   "metadata": {},
   "outputs": [
    {
     "name": "stdout",
     "output_type": "stream",
     "text": [
      "Enter the number of days : 13\n",
      "Number of days =  13\n",
      "The charge for Library =  52\n"
     ]
    }
   ],
   "source": [
    "#10. Accept the number of days from the user and calculate the charge for library according to following :\n",
    "days = int(input(\"Enter the number of days : \"))\n",
    "if days<5 :\n",
    "    amount = days * 2\n",
    "elif days>5 and days<=10 :\n",
    "    amount = days * 3\n",
    "elif days>10 and days<=15 :\n",
    "    amount = days * 4\n",
    "else :\n",
    "    amount = days * 5\n",
    "print(\"Number of days = \",days)\n",
    "print(\"The charge for Library = \",amount)"
   ]
  },
  {
   "cell_type": "code",
   "execution_count": null,
   "id": "79ab4f85",
   "metadata": {},
   "outputs": [],
   "source": []
  }
 ],
 "metadata": {
  "kernelspec": {
   "display_name": "Python 3 (ipykernel)",
   "language": "python",
   "name": "python3"
  },
  "language_info": {
   "codemirror_mode": {
    "name": "ipython",
    "version": 3
   },
   "file_extension": ".py",
   "mimetype": "text/x-python",
   "name": "python",
   "nbconvert_exporter": "python",
   "pygments_lexer": "ipython3",
   "version": "3.9.7"
  }
 },
 "nbformat": 4,
 "nbformat_minor": 5
}

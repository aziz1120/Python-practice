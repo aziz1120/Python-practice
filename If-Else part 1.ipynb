{
 "cells": [
  {
   "cell_type": "code",
   "execution_count": 1,
   "id": "32b2d002",
   "metadata": {},
   "outputs": [
    {
     "name": "stdout",
     "output_type": "stream",
     "text": [
      "8 Is Positive\n"
     ]
    }
   ],
   "source": [
    "num = 8\n",
    "if num > 0:\n",
    "    print(num , \"Is Positive\")\n",
    "    \n",
    "else :\n",
    "    print(num , \"Is Negative\")"
   ]
  },
  {
   "cell_type": "code",
   "execution_count": 2,
   "id": "465f0299",
   "metadata": {},
   "outputs": [
    {
     "name": "stdout",
     "output_type": "stream",
     "text": [
      "0 zero\n"
     ]
    }
   ],
   "source": [
    "num = 0\n",
    "if num > 0 :\n",
    "    print(num , \"Is Positive\")\n",
    "elif num < 0 :\n",
    "    print(num,\"Is Negative\")\n",
    "else :\n",
    "    print(num,\"zero\")"
   ]
  },
  {
   "cell_type": "code",
   "execution_count": 3,
   "id": "91721bfb",
   "metadata": {},
   "outputs": [
    {
     "name": "stdout",
     "output_type": "stream",
     "text": [
      "Enter the Number : 5\n",
      "5 Odd\n"
     ]
    }
   ],
   "source": [
    "num = int(input(\"Enter the Number : \"))\n",
    "if num%2==0 :\n",
    "    print(num,\"Even\")\n",
    "else :\n",
    "    print(num,\"Odd\")"
   ]
  },
  {
   "cell_type": "code",
   "execution_count": 7,
   "id": "7fd68db8",
   "metadata": {},
   "outputs": [
    {
     "name": "stdout",
     "output_type": "stream",
     "text": [
      "Enter the Number : 15\n",
      "15 Divisible\n"
     ]
    }
   ],
   "source": [
    "#1. Check whether the number is divisible by 7\n",
    "num = int(input(\"Enter the Number : \"))\n",
    "if num//2==7 :\n",
    "    print(num,\"Divisible\")\n",
    "else :\n",
    "    print(num,\"Not Divisible\")"
   ]
  },
  {
   "cell_type": "code",
   "execution_count": 8,
   "id": "b08bbb11",
   "metadata": {},
   "outputs": [
    {
     "name": "stdout",
     "output_type": "stream",
     "text": [
      "Enter the Number : 3\n",
      "3 Odd\n"
     ]
    }
   ],
   "source": [
    "#2. Check whether the given number is even or od\n",
    "num = int(input(\"Enter the Number : \"))\n",
    "if num%2==0 :\n",
    "    print(num,\"Even\")\n",
    "else :\n",
    "    print(num,\"Odd\")"
   ]
  },
  {
   "cell_type": "code",
   "execution_count": 20,
   "id": "0b440b9e",
   "metadata": {},
   "outputs": [
    {
     "name": "stdout",
     "output_type": "stream",
     "text": [
      "not Present\n"
     ]
    }
   ],
   "source": [
    "#4. check whether 'a' is in 'Python' string or not\n",
    "s = \"python\"\n",
    "if 'a' == s :\n",
    "    print(\"Is Present\")\n",
    "else :\n",
    "    print(\"not Present\")"
   ]
  },
  {
   "cell_type": "code",
   "execution_count": 13,
   "id": "b7b59c73",
   "metadata": {},
   "outputs": [
    {
     "name": "stdout",
     "output_type": "stream",
     "text": [
      "Enter The value of a30\n",
      "Enter The value of b20\n",
      "Enter The value of c10\n",
      "a is the largest number\n"
     ]
    }
   ],
   "source": [
    "#5. Find the largest number among three number with user input\n",
    "a = int(input(\"Enter The value of a\"))\n",
    "b = int(input(\"Enter The value of b\"))\n",
    "c = int(input(\"Enter The value of c\"))\n",
    "if a > b :\n",
    "    print(\"a is the largest number\")\n",
    "elif a > c :\n",
    "    print(\"a is the largest number\")\n",
    "elif b > a :\n",
    "    print(\"b is the largest number\")\n",
    "elif b > c :\n",
    "    print(\"b is the largest number\")\n",
    "elif c > a :\n",
    "    print(\"c is the largest number\")\n",
    "elif c > b :\n",
    "    print(\"c is the largest number\")\n",
    "else :\n",
    "    print('None')"
   ]
  },
  {
   "cell_type": "code",
   "execution_count": 25,
   "id": "3217fcf4",
   "metadata": {},
   "outputs": [
    {
     "name": "stdout",
     "output_type": "stream",
     "text": [
      "Enter the total number of Working days : 365\n",
      "Enter Number Of Days For Present : 250\n",
      "Students will not be able to sit in Exam\n"
     ]
    }
   ],
   "source": [
    "#7. Accept the following from the user and calculate the percentage of class attended:\n",
    "#a.     Total number of working days\n",
    "#b.     Total number of days for present\n",
    "#After calculating percentage show that, If the percentage is less than 75, than student will not be able to sit in exam.\n",
    "\n",
    "W = int(input(\"Enter the total number of Working days : \"))\n",
    "P = int(input(\"Enter Number Of Days For Present : \"))\n",
    "Percentage = (b/a)*100\n",
    "if p<75 :\n",
    "    print(\"Students will not be able to sit in Exam\")\n",
    "else :\n",
    "    print(\"Students will be able to sit in Exam\")"
   ]
  },
  {
   "cell_type": "code",
   "execution_count": 24,
   "id": "527ba1a1",
   "metadata": {},
   "outputs": [
    {
     "name": "stdout",
     "output_type": "stream",
     "text": [
      "Enter The Year : 1900\n",
      "Not a leap Year\n"
     ]
    }
   ],
   "source": [
    "#6.Check whether year is leap year or not\n",
    "year = int(input(\"Enter The Year : \"))\n",
    "if year%4==0 and year%100!=0 :\n",
    "    print(\"Leap Year\")\n",
    "elif year%400==0 :\n",
    "    print(\"Leap Year\")\n",
    "else :\n",
    "    print(\"Not a leap Year\")"
   ]
  },
  {
   "cell_type": "code",
   "execution_count": 28,
   "id": "668783d6",
   "metadata": {},
   "outputs": [
    {
     "name": "stdout",
     "output_type": "stream",
     "text": [
      "Enter the letterf\n",
      "Ia not a vowel\n"
     ]
    }
   ],
   "source": [
    "#8. Check whether the letter is vowel or not\n",
    "V = ['a','e','i','o','u']\n",
    "L = str(input(\"Enter the letter\"))\n",
    "if L in V :\n",
    "     print(\"Is a Vowel\")\n",
    "else :\n",
    "     print(\"Ia not a vowel\")\n",
    "     "
   ]
  },
  {
   "cell_type": "code",
   "execution_count": 30,
   "id": "58c123e4",
   "metadata": {},
   "outputs": [
    {
     "name": "stdout",
     "output_type": "stream",
     "text": [
      "Enter the Number : 5\n",
      "Thusday\n"
     ]
    }
   ],
   "source": [
    "#9. Write a program to accept the number from 1 to 7 and display the name of the day like 1 for sunday,2 for monday and so on.\n",
    "Number = int(input(\"Enter the Number : \"))\n",
    "if Number == 1 :\n",
    "    print(\"Sunday\")\n",
    "elif Number == 2 :\n",
    "    print(\"Monday\")\n",
    "elif Number == 3 :\n",
    "    print(\"Tuesday\")\n",
    "elif Number == 4 :\n",
    "    print(\"Wednesday\")\n",
    "elif Number == 5 :\n",
    "    print(\"Thusday\")\n",
    "elif Number == 6 :\n",
    "    print(\"Friday\")\n",
    "elif Number == 7 :\n",
    "    print(\"Saturday\")\n",
    "else :\n",
    "    print(\"Please enter the number \")"
   ]
  },
  {
   "cell_type": "code",
   "execution_count": 35,
   "id": "f764efec",
   "metadata": {},
   "outputs": [
    {
     "name": "stdout",
     "output_type": "stream",
     "text": [
      "Enter The City : Agra\n",
      "Taj Mahal\n"
     ]
    }
   ],
   "source": [
    "#10. Accept any city from the user and display monument of that city.\n",
    "#                  City                                 Monument\n",
    "#                  Delhi                               Red Fort\n",
    "#                  Agra                                Taj Mahal\n",
    "#                  Jaipur                              Jal Mahal\n",
    "\n",
    "city = str(input(\"Enter The City : \"))\n",
    "if city == 'Delhi' :\n",
    "    print(\"Red Fort\")\n",
    "elif city  == 'Agra' :\n",
    "    print(\"Taj Mahal\")\n",
    "elif city == 'Jaipur' :\n",
    "    print(\"Jai Mahal\")\n",
    "else :\n",
    "    print(\"Please enter the city name \")"
   ]
  },
  {
   "cell_type": "code",
   "execution_count": 38,
   "id": "ca63dd16",
   "metadata": {},
   "outputs": [
    {
     "name": "stdout",
     "output_type": "stream",
     "text": [
      "Enter the age of the person : 22\n",
      "Person is Eligible for voting\n"
     ]
    }
   ],
   "source": [
    "#11. Check whether the person is eligible for voting or not.\n",
    "person = int(input(\"Enter the age of the person : \"))\n",
    "if person > 18 :\n",
    "    print(\"Person is Eligible for voting\")\n",
    "else :\n",
    "    print(\"Person is not Eligible for voting\")\n",
    "    "
   ]
  },
  {
   "cell_type": "code",
   "execution_count": 40,
   "id": "b4cded57",
   "metadata": {},
   "outputs": [
    {
     "name": "stdout",
     "output_type": "stream",
     "text": [
      "Enter the Value of length : 5\n",
      "Enter the Value of breadth : 5\n",
      "Square\n"
     ]
    }
   ],
   "source": [
    "#13. Check whether the figure is square or not by giving length and breadth\n",
    "L = int(input(\"Enter the Value of length : \"))\n",
    "B = int(input(\"Enter the Value of breadth : \"))\n",
    "if L == B :\n",
    "    print('Square')\n",
    "else :\n",
    "    print('not a Square')"
   ]
  },
  {
   "cell_type": "code",
   "execution_count": 48,
   "id": "cf53701d",
   "metadata": {},
   "outputs": [
    {
     "name": "stdout",
     "output_type": "stream",
     "text": [
      "Enter the number : 5\n",
      "Enter the number : 5\n",
      "Enter the operator*\n",
      "25\n"
     ]
    }
   ],
   "source": [
    "#12. Make a simple calculator using input\n",
    "num1 = int(input(\"Enter the number : \"))\n",
    "num2 = int(input(\"Enter the number : \"))\n",
    "Operator = (input(\"Enter the operator\"))\n",
    "if Operator == '+' :\n",
    "           print(num1 + num2)\n",
    "elif Operator == '-' :\n",
    "           print(num1 - num2)\n",
    "elif Operator == '*' :\n",
    "           print(num1 * num2)\n",
    "elif Operator == '/' :\n",
    "           print(num1 / num2)\n",
    "else :\n",
    "    print('Please enter the number ')"
   ]
  },
  {
   "cell_type": "code",
   "execution_count": null,
   "id": "f7bd5e71",
   "metadata": {},
   "outputs": [],
   "source": []
  }
 ],
 "metadata": {
  "kernelspec": {
   "display_name": "Python 3 (ipykernel)",
   "language": "python",
   "name": "python3"
  },
  "language_info": {
   "codemirror_mode": {
    "name": "ipython",
    "version": 3
   },
   "file_extension": ".py",
   "mimetype": "text/x-python",
   "name": "python",
   "nbconvert_exporter": "python",
   "pygments_lexer": "ipython3",
   "version": "3.9.7"
  }
 },
 "nbformat": 4,
 "nbformat_minor": 5
}
